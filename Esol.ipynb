{
 "cells": [
  {
   "cell_type": "code",
   "execution_count": 63,
   "id": "6a9a4233",
   "metadata": {},
   "outputs": [],
   "source": [
    "import numpy as np\n",
    "import pandas as pd\n",
    "import torch\n",
    "import torch.nn as nn\n",
    "from torch.utils.data import TensorDataset\n",
    "from pandas import read_csv\n",
    "from sklearn.impute import SimpleImputer"
   ]
  },
  {
   "cell_type": "code",
   "execution_count": 64,
   "id": "99f878fe",
   "metadata": {},
   "outputs": [
    {
     "data": {
      "text/plain": [
       "(1128, 201)"
      ]
     },
     "execution_count": 64,
     "metadata": {},
     "output_type": "execute_result"
    }
   ],
   "source": [
    "data=pd.read_csv(r'C:\\Users\\Sana\\Desktop\\\\Esol.csv')\n",
    "data.shape"
   ]
  },
  {
   "cell_type": "code",
   "execution_count": 65,
   "id": "993a5ba3",
   "metadata": {},
   "outputs": [],
   "source": [
    "Xdata = data.iloc[:,0:200]\n",
    "Ydata = data.iloc[:,200:201]"
   ]
  },
  {
   "cell_type": "code",
   "execution_count": 66,
   "id": "3414c8bb",
   "metadata": {},
   "outputs": [
    {
     "data": {
      "text/plain": [
       "(1128, 1)"
      ]
     },
     "execution_count": 66,
     "metadata": {},
     "output_type": "execute_result"
    }
   ],
   "source": [
    "Ydata.shape"
   ]
  },
  {
   "cell_type": "code",
   "execution_count": 67,
   "id": "4d976951",
   "metadata": {},
   "outputs": [
    {
     "data": {
      "text/plain": [
       "(1128, 200)"
      ]
     },
     "execution_count": 67,
     "metadata": {},
     "output_type": "execute_result"
    }
   ],
   "source": [
    "Xdata.shape"
   ]
  },
  {
   "cell_type": "code",
   "execution_count": 68,
   "id": "fe00e64f",
   "metadata": {},
   "outputs": [],
   "source": [
    "from sklearn.model_selection import train_test_split\n",
    "X_train, X_test, Y_train, Y_test = train_test_split(Xdata, Ydata, test_size=0.3, random_state=1)"
   ]
  },
  {
   "cell_type": "code",
   "execution_count": 69,
   "id": "d461ccd1",
   "metadata": {},
   "outputs": [
    {
     "name": "stdout",
     "output_type": "stream",
     "text": [
      "(789, 200) (789, 1) (339, 200) (339, 1)\n"
     ]
    }
   ],
   "source": [
    "from sklearn import preprocessing\n",
    "\n",
    "#scaler_data = preprocessing.MinMaxScaler()\n",
    "#X_train = scaler_data.fit_transform(X_train)\n",
    "#X_test = scaler_data.transform(X_test)\n",
    "scaler_labels = preprocessing.MinMaxScaler()\n",
    "Y_train = scaler_labels.fit_transform(Y_train.values.reshape(-1, 1))\n",
    "Y_test = scaler_labels.transform(Y_test.values.reshape(-1, 1))\n",
    "\n",
    "print(X_train.shape, Y_train.shape, X_test.shape, Y_test.shape)\n",
    "#print(X_train)\n",
    "#print(\"Train labels before scaling: {} {} {}Train labels after scaling: {} {}\".format('\\n',train_labels_before,'\\n', '\\n', train_labels))"
   ]
  },
  {
   "cell_type": "code",
   "execution_count": 77,
   "id": "c4d1e27d",
   "metadata": {},
   "outputs": [],
   "source": [
    "# from sklearn.linear_model import LinearRegression\n",
    "# from sklearn import metrics\n",
    "# model= LinearRegression(fit_intercept=False)\n",
    "# model2=model.fit(X_train, Y_train)\n",
    "# print(model2.summary())"
   ]
  },
  {
   "cell_type": "code",
   "execution_count": 78,
   "id": "2b56bb35",
   "metadata": {},
   "outputs": [
    {
     "name": "stdout",
     "output_type": "stream",
     "text": [
      "(789, 3)\n"
     ]
    }
   ],
   "source": [
    "from sklearn.decomposition import PCA as sklearnPCA\n",
    "sklearn_pca = sklearnPCA(n_components=3)\n",
    "X_train_pca = sklearn_pca.fit_transform(X_train)\n",
    "print(X_train_pca.shape)"
   ]
  },
  {
   "cell_type": "code",
   "execution_count": null,
   "id": "91fa69f8",
   "metadata": {},
   "outputs": [],
   "source": []
  },
  {
   "cell_type": "code",
   "execution_count": null,
   "id": "bef28fa9",
   "metadata": {},
   "outputs": [],
   "source": []
  },
  {
   "cell_type": "code",
   "execution_count": null,
   "id": "fa15bfc8",
   "metadata": {},
   "outputs": [],
   "source": []
  },
  {
   "cell_type": "code",
   "execution_count": null,
   "id": "a0d08e7e",
   "metadata": {},
   "outputs": [],
   "source": []
  },
  {
   "cell_type": "code",
   "execution_count": null,
   "id": "867b72ef",
   "metadata": {},
   "outputs": [],
   "source": []
  },
  {
   "cell_type": "code",
   "execution_count": null,
   "id": "2a9fabc6",
   "metadata": {},
   "outputs": [],
   "source": []
  }
 ],
 "metadata": {
  "kernelspec": {
   "display_name": "Python 3",
   "language": "python",
   "name": "python3"
  },
  "language_info": {
   "codemirror_mode": {
    "name": "ipython",
    "version": 3
   },
   "file_extension": ".py",
   "mimetype": "text/x-python",
   "name": "python",
   "nbconvert_exporter": "python",
   "pygments_lexer": "ipython3",
   "version": "3.8.8"
  }
 },
 "nbformat": 4,
 "nbformat_minor": 5
}
